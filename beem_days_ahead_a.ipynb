{
 "cells": [
  {
   "cell_type": "markdown",
   "metadata": {},
   "source": [
    "***Readme***\n",
    "\n",
    "This code helps calculate the current value for a meta goal based on how far above the road are latest datapoints across a list of goals.\n",
    "\n",
    " Before using, mark the list of the goals which you need to take into account with a unique tag. (It only makes sense to take into account some goals and not others. For example, it doesn't work for do-less goals. Works best for goals where the direction of data accumulation is monotonous. E.g. odometer or do-more goals where the total can only become higher and whittle-down goals where the total can only become lower. Should work fine with odometer resets.)\n",
    "\n",
    "Set up a goal that will accept the meta values as an odometer goal. I use the rate of 0.1, just for it to be non-zero, but the rate is not important here, since the pressure will be not from this goal's rate but from the rates of all the goals that are taken into account.\n",
    "\n",
    "The datapoint that is posted takes into account 10 goals with closest-to-the-road latest datapoints. Think of it as a score on the scale of 0 to 100, where 0 is \"at least 10 goals are in the red today\" and 100 as \"all goals are at least 10 days ahead of the plan\". In my experience, it make little sense to actually strive to achieve the 90+ range, as then the freedom to work more one this or that goal disappears. Instead, it is the journey that is the destination :)\n",
    "\n",
    "**Add your INFO in the second cell with code.**\n",
    "\n",
    "After the last cell, you cap see a recap confirming that the datapoint has been posted and a list of goals that you can work on that contribute to the meta goal."
   ]
  },
  {
   "cell_type": "markdown",
   "metadata": {},
   "source": [
    "ChatGPT's recap of what it helped me do:\n",
    "\n",
    "We developed a code pipeline in Python to interact with Beeminder’s API and analyze goal data, starting by defining key parameters such as USERNAME, ACCESS_TOKEN, and BASE_URL. Using this setup, we retrieved all goals data from Beeminder and created a DataFrame to display key goal attributes. We then filtered the goals based on a specific tag (\"normal\") and used this filtered data to extract future goal rates and dynamically added a \"rates_future\" column.\n",
    "\n",
    "Next, we calculated \"max_r_future\", which either took the highest or lowest value from \"rates_future\" based on the sign of its entries, with manual input for mixed values. We then adjusted this rate based on goal units (\"d\", \"w\", \"m\", \"y\") to create a normalized \"max_r_future_adj\" column. We also calculated \"ahead_by_d\" to show how far ahead a goal is, and rounded this value down to create an integer column, \"ahead_by_d_int\". Finally, we summarized the data in two variables, qu_below_10 and sum_10_below_10, reflecting how many goals were close to derailing and the adjusted sum of the lowest values.\n",
    "\n",
    "For display, we created a new DataFrame truncated_df, formatted columns to show up to two decimals, and posted the summary data to Beeminder’s API. We wrapped up by displaying selected columns in a human-readable format, creating a well-rounded tool for monitoring Beeminder goals."
   ]
  },
  {
   "cell_type": "code",
   "execution_count": 1,
   "metadata": {},
   "outputs": [],
   "source": [
    "import requests"
   ]
  },
  {
   "cell_type": "code",
   "execution_count": 2,
   "metadata": {},
   "outputs": [],
   "source": [
    "# Add your info here!!!!\n",
    "\n",
    "USERNAME = 'username'\n",
    "ACCESS_TOKEN = 'XXXXXXXXX'\n",
    "TAG_FOR_LIST = 'xxxxxxxxx'\n",
    "METAGOAL_SLUG = 'xxxxxxxxx'"
   ]
  },
  {
   "cell_type": "code",
   "execution_count": 4,
   "metadata": {},
   "outputs": [],
   "source": [
    "# Base URL for Beeminder API\n",
    "BASE_URL = 'https://www.beeminder.com/api/v1/'"
   ]
  },
  {
   "cell_type": "code",
   "execution_count": null,
   "metadata": {},
   "outputs": [],
   "source": [
    "# Define the endpoint URL to retrieve all goals\n",
    "goals_url = f\"{BASE_URL}/users/{USERNAME}/goals.json\"\n",
    "\n",
    "# Function to make a GET request and retrieve all goals\n",
    "def get_all_goals():\n",
    "    response = requests.get(goals_url, params={\"auth_token\": ACCESS_TOKEN})\n",
    "    if response.status_code == 200:\n",
    "        return response.json()\n",
    "    else:\n",
    "        print(f\"Failed to retrieve goals: {response.status_code}\")\n",
    "        return None\n",
    "\n",
    "# Test the function\n",
    "all_goals = get_all_goals()\n",
    "all_goals  # Display the retrieved goals\n"
   ]
  },
  {
   "cell_type": "code",
   "execution_count": null,
   "metadata": {},
   "outputs": [],
   "source": [
    "import pandas as pd\n",
    "\n",
    "# Function to convert the retrieved goals data to a DataFrame with error checking\n",
    "def goals_to_dataframe(goals_data):\n",
    "    # Define the columns we want to extract\n",
    "    desired_columns = ['slug', 'losedate', 'fullroad', 'delta', 'runits', 'tags', 'goal_type']\n",
    "    \n",
    "    # Check if goals_data is not None\n",
    "    if goals_data:\n",
    "        # Identify missing columns\n",
    "        missing_columns = [col for col in desired_columns if col not in goals_data[0]]\n",
    "        if missing_columns:\n",
    "            print(f\"Warning: The following columns are missing from the data and will not be included: {missing_columns}\")\n",
    "        \n",
    "        # Extract only the available specified columns\n",
    "        available_columns = [col for col in desired_columns if col in goals_data[0]]\n",
    "        goals_df = pd.DataFrame(goals_data)[available_columns]\n",
    "        return goals_df\n",
    "    else:\n",
    "        print(\"No data available to convert to DataFrame.\")\n",
    "        return pd.DataFrame()  # Return an empty DataFrame if there's no data\n",
    "\n",
    "# Populate the DataFrame with the goals data\n",
    "goals_df = goals_to_dataframe(all_goals)\n",
    "goals_df  # Display the DataFrame\n"
   ]
  },
  {
   "cell_type": "code",
   "execution_count": null,
   "metadata": {},
   "outputs": [],
   "source": [
    "# Filter rows where 'tags' contains TAG_FOR_LIST and 'goal_type' is not 'drinker'\n",
    "normal_goals_df = goals_df[\n",
    "    goals_df['tags'].apply(lambda tags: TAG_FOR_LIST in tags if tags else False) & \n",
    "    (goals_df['goal_type'] != 'drinker')\n",
    "]\n",
    "\n",
    "# Display the filtered DataFrame\n",
    "normal_goals_df\n"
   ]
  },
  {
   "cell_type": "code",
   "execution_count": null,
   "metadata": {},
   "outputs": [],
   "source": [
    "import time\n",
    "\n",
    "# Get the current time as a Unix timestamp\n",
    "current_timestamp = int(time.time())\n",
    "\n",
    "# Display the current timestamp\n",
    "current_timestamp"
   ]
  },
  {
   "cell_type": "code",
   "execution_count": null,
   "metadata": {},
   "outputs": [],
   "source": [
    "# Function to extract future rates based on current timestamp\n",
    "def get_future_rates(fullroad, current_timestamp):\n",
    "    # Filter for rates where the timestamp is in the future\n",
    "    return [entry[-1] for entry in fullroad if entry[0] > current_timestamp]\n",
    "\n",
    "# Copy DataFrame to avoid SettingWithCopyWarning and apply future rates extraction\n",
    "normal_goals_df = normal_goals_df.copy()  # Make an explicit copy\n",
    "normal_goals_df['rates_future'] = normal_goals_df['fullroad'].apply(lambda fullroad: get_future_rates(fullroad, current_timestamp))\n",
    "\n",
    "# Display the updated DataFrame with the new 'rates_future' column\n",
    "normal_goals_df\n"
   ]
  },
  {
   "cell_type": "code",
   "execution_count": null,
   "metadata": {},
   "outputs": [],
   "source": [
    "# Function to determine max_r_future based on specified conditions\n",
    "def determine_max_r_future(slug, rates_future):\n",
    "    if all(rate >= 0 for rate in rates_future):\n",
    "        return max(rates_future)  # All non-negative, take max\n",
    "    elif all(rate <= 0 for rate in rates_future):\n",
    "        return min(rates_future)  # All non-positive, take min\n",
    "    else:\n",
    "        # Mixed values, prompt the user for input\n",
    "        print(f\"The goal '{slug}' has mixed rates in 'rates_future': {rates_future}\")\n",
    "        while True:\n",
    "            try:\n",
    "                user_input = float(input(f\"Please enter a value to use for '{slug}': \"))\n",
    "                return user_input\n",
    "            except ValueError:\n",
    "                print(\"Invalid input. Please enter a numeric value.\")\n",
    "\n",
    "# Apply the function to each row in normal_goals_df and add as a new column\n",
    "normal_goals_df['max_r_future'] = normal_goals_df.apply(\n",
    "    lambda row: determine_max_r_future(row['slug'], row['rates_future']), axis=1\n",
    ")\n",
    "\n",
    "# Display the updated DataFrame\n",
    "normal_goals_df\n"
   ]
  },
  {
   "cell_type": "code",
   "execution_count": null,
   "metadata": {},
   "outputs": [],
   "source": [
    "# Filter out rows where 'max_r_future' is 0\n",
    "normal_goals_df = normal_goals_df.loc[normal_goals_df['max_r_future'] != 0]\n",
    "\n",
    "# Display the updated DataFrame\n",
    "normal_goals_df\n"
   ]
  },
  {
   "cell_type": "code",
   "execution_count": null,
   "metadata": {},
   "outputs": [],
   "source": [
    "# Function to adjust max_r_future based on runits\n",
    "def adjust_max_r_future(max_r_future, runits):\n",
    "    if runits == \"d\":\n",
    "        return max_r_future\n",
    "    elif runits == \"w\":\n",
    "        return max_r_future / 7\n",
    "    elif runits == \"m\":\n",
    "        return max_r_future / 30\n",
    "    elif runits == \"y\":\n",
    "        return max_r_future / 365\n",
    "    else:\n",
    "        return max_r_future  # Default in case of unexpected 'runits' value\n",
    "\n",
    "# Apply the adjustment function to create the 'max_r_future_adj' column\n",
    "normal_goals_df['max_r_future_adj'] = normal_goals_df.apply(\n",
    "    lambda row: adjust_max_r_future(row['max_r_future'], row['runits']), axis=1\n",
    ")\n",
    "\n",
    "# Display the updated DataFrame\n",
    "normal_goals_df\n"
   ]
  },
  {
   "cell_type": "code",
   "execution_count": null,
   "metadata": {},
   "outputs": [],
   "source": [
    "# Function to calculate 'ahead_by_d' based on delta and max_r_future_adj\n",
    "def calculate_ahead_by_d(delta, max_r_future_adj):\n",
    "    # Check if delta and max_r_future_adj have opposite signs\n",
    "    if (delta < 0 < max_r_future_adj) or (delta > 0 > max_r_future_adj):\n",
    "        return 0  # Opposite signs, set to 0\n",
    "    else:\n",
    "        return delta / max_r_future_adj + 1  # Same sign, calculate the value\n",
    "\n",
    "# Apply the function to each row to create the 'ahead_by_d' column\n",
    "normal_goals_df['ahead_by_d'] = normal_goals_df.apply(\n",
    "    lambda row: calculate_ahead_by_d(row['delta'], row['max_r_future_adj']), axis=1\n",
    ")\n",
    "\n",
    "# Display the updated DataFrame\n",
    "normal_goals_df\n"
   ]
  },
  {
   "cell_type": "code",
   "execution_count": null,
   "metadata": {},
   "outputs": [],
   "source": [
    "import math\n",
    "\n",
    "# Create 'ahead_by_d_int' by rounding down 'ahead_by_d' to the nearest integer\n",
    "normal_goals_df['ahead_by_d_int'] = normal_goals_df['ahead_by_d'].apply(math.floor)\n",
    "\n",
    "# Display the updated DataFrame\n",
    "normal_goals_df\n"
   ]
  },
  {
   "cell_type": "code",
   "execution_count": null,
   "metadata": {},
   "outputs": [],
   "source": [
    "# Count the number of rows where 'ahead_by_d_int' is less than 10\n",
    "qu_below_10 = (normal_goals_df['ahead_by_d_int'] < 10).sum()\n",
    "\n",
    "# Get the 10 lowest values in 'ahead_by_d_int' and apply the min condition for summing\n",
    "sum_10_below_10 = normal_goals_df['ahead_by_d_int'].nsmallest(10).apply(lambda x: min(x, 10)).sum()\n",
    "\n",
    "# Display the results\n",
    "qu_below_10, sum_10_below_10\n"
   ]
  },
  {
   "cell_type": "code",
   "execution_count": null,
   "metadata": {},
   "outputs": [],
   "source": [
    "import requests\n",
    "from datetime import datetime\n",
    "\n",
    "# Function to post a datapoint to Beeminder\n",
    "def post_to_beeminder(goal_slug, value, comment):\n",
    "    url = f\"{BASE_URL}/users/{USERNAME}/goals/{goal_slug}/datapoints.json\"\n",
    "    data = {\n",
    "        \"auth_token\": ACCESS_TOKEN,\n",
    "        \"value\": value,\n",
    "        \"comment\": comment\n",
    "    }\n",
    "    \n",
    "    # Make the POST request\n",
    "    response = requests.post(url, data=data)\n",
    "    \n",
    "    # Check if the request was successful\n",
    "    if response.status_code == 200:\n",
    "        print(\"Datapoint added successfully!\")\n",
    "    else:\n",
    "        print(f\"Failed to add datapoint: {response.status_code} - {response.json()}\")\n",
    "\n",
    "# Define the goal slug and prepare the values for posting\n",
    "goal_slug = METAGOAL_SLUG\n",
    "value = sum_10_below_10\n",
    "current_time = datetime.now().strftime(\"%Y-%m-%d %H:%M\")\n",
    "comment = f\"{qu_below_10} goals <10. Upd at {current_time}\"\n",
    "\n",
    "# Post to Beeminder\n",
    "post_to_beeminder(goal_slug, value, comment)\n"
   ]
  },
  {
   "cell_type": "code",
   "execution_count": null,
   "metadata": {},
   "outputs": [],
   "source": [
    "from datetime import timedelta\n",
    "\n",
    "# Function to calculate \"derail_in\" as \"in D days HH:MM\"\n",
    "def calculate_derail_in(losedate, current_timestamp):\n",
    "    # Calculate the time difference between losedate and the current time\n",
    "    time_difference = losedate - current_timestamp\n",
    "    if time_difference <= 0:\n",
    "        return \"Already derailed\"  # Handle past or current losedate\n",
    "    # Convert time difference to days, hours, and minutes\n",
    "    delta = timedelta(seconds=time_difference)\n",
    "    days = delta.days\n",
    "    hours, remainder = divmod(delta.seconds, 3600)\n",
    "    minutes = remainder // 60\n",
    "    return f\"in {days} days {hours:02}:{minutes:02}\"\n",
    "\n",
    "# Create a truncated copy of the DataFrame\n",
    "truncated_df = normal_goals_df.drop(columns=['fullroad', 'runits', 'tags', 'rates_future', 'max_r_future', 'goal_type']).copy()\n",
    "\n",
    "# Calculate \"derail_in\" based on \"losedate\" and the current timestamp, then add it to the DataFrame\n",
    "truncated_df['derail_in'] = truncated_df['losedate'].apply(lambda losedate: calculate_derail_in(losedate, current_timestamp))\n",
    "\n",
    "# Drop the \"losedate\" column as requested\n",
    "truncated_df = truncated_df.drop(columns=['losedate'])\n",
    "\n",
    "# Display the truncated DataFrame\n",
    "truncated_df\n"
   ]
  },
  {
   "cell_type": "code",
   "execution_count": null,
   "metadata": {},
   "outputs": [],
   "source": [
    "# Function to format floats to 2 decimal places or as integers if they are close enough\n",
    "def format_float(value):\n",
    "    # Check if the value is already a string to avoid re-formatting\n",
    "    if isinstance(value, str):\n",
    "        return value\n",
    "    \n",
    "    # Check if the value is within 0.01 of its nearest integer\n",
    "    if abs(value - round(value)) < 0.01:\n",
    "        return int(round(value))  # Display as an integer if close enough\n",
    "    else:\n",
    "        return f\"{value:.2f}\"  # Otherwise, display with 2 decimal places\n",
    "\n",
    "# Apply the formatting function to each specified column\n",
    "truncated_df['delta'] = truncated_df['delta'].apply(format_float)\n",
    "truncated_df['max_r_future_adj'] = truncated_df['max_r_future_adj'].apply(format_float)\n",
    "truncated_df['ahead_by_d'] = truncated_df['ahead_by_d'].apply(format_float)\n",
    "\n",
    "# Display the nicely formatted DataFrame\n",
    "truncated_df\n"
   ]
  },
  {
   "cell_type": "code",
   "execution_count": null,
   "metadata": {},
   "outputs": [],
   "source": [
    "import time\n",
    "\n",
    "# Wait for 4 seconds\n",
    "time.sleep(4)\n",
    "\n",
    "# Function to get specific attributes from a Beeminder goal\n",
    "def get_goal_attributes(goal_slug, attributes):\n",
    "    url = f\"{BASE_URL}/users/{USERNAME}/goals/{goal_slug}.json\"\n",
    "    response = requests.get(url, params={\"auth_token\": ACCESS_TOKEN})\n",
    "    \n",
    "    if response.status_code == 200:\n",
    "        goal_data = response.json()\n",
    "        # Extract the specified attributes\n",
    "        return {attr: goal_data.get(attr) for attr in attributes}\n",
    "    else:\n",
    "        print(f\"Failed to retrieve goal data: {response.status_code}\")\n",
    "        return None\n",
    "\n",
    "# Retrieve \"curval\" and \"limsum\" for the specified goal\n",
    "goal_slug = METAGOAL_SLUG\n",
    "attributes = [\"curval\", \"limsum\"]\n",
    "goal_info = get_goal_attributes(goal_slug, attributes)\n",
    "\n",
    "# Print the results\n",
    "if goal_info:\n",
    "    print(\"curval:\", goal_info[\"curval\"])\n",
    "    print(\"limsum:\", goal_info[\"limsum\"])\n",
    "\n",
    "\n",
    "truncated_df\n"
   ]
  }
 ],
 "metadata": {
  "kernelspec": {
   "display_name": "Python 3",
   "language": "python",
   "name": "python3"
  },
  "language_info": {
   "codemirror_mode": {
    "name": "ipython",
    "version": 3
   },
   "file_extension": ".py",
   "mimetype": "text/x-python",
   "name": "python",
   "nbconvert_exporter": "python",
   "pygments_lexer": "ipython3",
   "version": "3.10.11"
  }
 },
 "nbformat": 4,
 "nbformat_minor": 2
}
